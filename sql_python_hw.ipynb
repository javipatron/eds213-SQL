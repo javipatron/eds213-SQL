{
 "cells": [
  {
   "cell_type": "code",
   "execution_count": 9,
   "metadata": {},
   "outputs": [
    {
     "name": "stdout",
     "output_type": "stream",
     "text": [
      "Charadrius semipalmatus 8.99%\n",
      "Pluvialis dominica 19.88%\n",
      "Pluvialis squatarola 6.94%\n",
      "Calidris alpina 5.46%\n",
      "Calidris fuscicollis 16.77%\n",
      "Phalaropus fulicarius 4.65%\n",
      "Arenaria interpres 21.12%\n"
     ]
    }
   ],
   "source": [
    "# Import SQLite\n",
    "import sqlite3\n",
    "# Import Pandas\n",
    "import pandas as pd\n",
    "\n",
    "# Set my working directory\n",
    "import os\n",
    "os.chdir('/Users/javipatron/Documents/MEDS/Courses/eds213/bren-meds213-class-data/week7')\n",
    "\n",
    "\n",
    "# Connect to our database in week 7\n",
    "conn = sqlite3.connect(\"database.db\")\n",
    "\n",
    "\n",
    "# Execute a querey and store as unique_species\n",
    "c = conn.cursor()\n",
    "c.execute(\"CREATE TEMPORARY TABLE temp_unique_species AS SELECT DISTINCT bn.Species, s.Scientific_name FROM Bird_eggs be JOIN Bird_nests bn ON be.Nest_ID = bn.Nest_ID JOIN Species s ON bn.Species = s.Code;\")\n",
    "\n",
    "\n",
    "species_query = \"\"\"SELECT Species, Scientific_name FROM temp_unique_species\"\"\"\n",
    "for row in c.execute(species_query):\n",
    "    species_code = row[0]\n",
    "    scientific_name = row[1]\n",
    "\n",
    "    # query egg data for that species (step 3)\n",
    "    egg_query = f\"\"\"SELECT '{species_code}' AS Species, Width * Width * Length AS Volume \n",
    "    FROM Bird_eggs be\n",
    "    JOIN Bird_nests bn ON be.Nest_ID = bn.Nest_ID\n",
    "    JOIN temp_unique_species tu ON bn.Species = tu.Species\n",
    "    WHERE tu.Species = '{species_code}';\"\"\"\n",
    "    df_species = pd.read_sql(egg_query, conn)\n",
    "    \n",
    "    # compute statistics and print results (step 4)\n",
    "    cv = round(df_species.Volume.std()/df_species.Volume.mean()*100, 2)\n",
    "    print(f\"{scientific_name} {cv}%\")\n"
   ]
  },
  {
   "cell_type": "code",
   "execution_count": 14,
   "metadata": {},
   "outputs": [
    {
     "name": "stdout",
     "output_type": "stream",
     "text": [
      "[('Species',), ('Site',), ('Personnel',), ('Camp_assignment',), ('Bird_nests',), ('Bird_eggs',)]\n",
      "Charadrius semipalmatus 8.99%\n",
      "Pluvialis dominica 19.88%\n",
      "Pluvialis squatarola 6.94%\n",
      "Calidris alpina 5.46%\n",
      "Calidris fuscicollis 16.77%\n",
      "Phalaropus fulicarius 4.65%\n",
      "Arenaria interpres 21.12%\n"
     ]
    }
   ],
   "source": [
    "# Import SQLite\n",
    "import sqlite3\n",
    "# Import Pandas\n",
    "import pandas as pd\n",
    "# Set my working directory\n",
    "import os\n",
    "os.chdir('/Users/javipatron/Documents/MEDS/Courses/eds213/bren-meds213-class-data/week7')\n",
    "\n",
    "# Connect to the SQLite database week 7\n",
    "conn = sqlite3.connect('database.db')\n",
    "c = conn.cursor()\n",
    "\n",
    "# Get the list of all tables (make sure you are able to read them)\n",
    "c.execute(\"SELECT name FROM sqlite_master WHERE type='table';\")\n",
    "print(c.fetchall())\n",
    "\n",
    "\n",
    "# Create the creating a temporary table that contains unique combinations of the table \"Species\" and \"Scientific_name\" from joined data of Bird_eggs, Bird_nests, and Species tables.\n",
    "c.execute(\"\"\"\n",
    "    CREATE TEMPORARY TABLE temp_unique_species AS \n",
    "    SELECT DISTINCT bn.Species, s.Scientific_name \n",
    "    FROM Bird_eggs be \n",
    "    JOIN Bird_nests bn ON be.Nest_ID = bn.Nest_ID \n",
    "    JOIN Species s ON bn.Species = s.Code\n",
    "\"\"\")\n",
    "\n",
    "# Get all unique species and their scientific names\n",
    "c.execute(\"SELECT Species, Scientific_name FROM temp_unique_species\")\n",
    "rows = c.fetchall()\n",
    "\n",
    "# Iterate over the species\n",
    "for row in rows:\n",
    "    species_code = row[0]\n",
    "    scientific_name = row[1]\n",
    "    \n",
    "    # Get the egg data for the current species\n",
    "    c.execute(f\"\"\"\n",
    "        SELECT Width * Width * Length AS Volume \n",
    "        FROM Bird_eggs be\n",
    "        JOIN Bird_nests bn ON be.Nest_ID = bn.Nest_ID\n",
    "        WHERE bn.Species = '{species_code}'\n",
    "    \"\"\")\n",
    "    \n",
    "    # Convert the results to a DataFrame for easy statistics calculations\n",
    "    df_species = pd.DataFrame(c.fetchall(), columns=['Volume'])\n",
    "    \n",
    "    # Calculate and print the coefficient of variation\n",
    "    cv = df_species['Volume'].std() / df_species['Volume'].mean() * 100\n",
    "    print(f\"{scientific_name} {round(cv, 2)}%\")"
   ]
  },
  {
   "cell_type": "code",
   "execution_count": 16,
   "metadata": {},
   "outputs": [
    {
     "name": "stdout",
     "output_type": "stream",
     "text": [
      "Charadrius semipalmatus 8.99%\n",
      "Pluvialis dominica 19.88%\n",
      "Pluvialis squatarola 6.94%\n",
      "Calidris alpina 5.46%\n",
      "Calidris fuscicollis 16.77%\n",
      "Phalaropus fulicarius 4.65%\n",
      "Arenaria interpres 21.12%\n"
     ]
    }
   ],
   "source": [
    "# Import SQLite\n",
    "import sqlite3\n",
    "# Import Pandas\n",
    "import pandas as pd\n",
    "# Set my working directory\n",
    "import os\n",
    "os.chdir('/Users/javipatron/Documents/MEDS/Courses/eds213/bren-meds213-class-data/week7')\n",
    "\n",
    "# Connect to the SQLite database\n",
    "conn = sqlite3.connect('database.db')\n",
    "c = conn.cursor()\n",
    "\n",
    "# Create the temporary table\n",
    "c.execute(\"\"\"\n",
    "    CREATE TEMPORARY TABLE EGG_VARIATION AS \n",
    "    SELECT DISTINCT bn.Species, s.Scientific_name \n",
    "    FROM Bird_eggs be \n",
    "    JOIN Bird_nests bn ON be.Nest_ID = bn.Nest_ID \n",
    "    JOIN Species s ON bn.Species = s.Code\n",
    "\"\"\")\n",
    "\n",
    "# Get all unique species and their scientific names\n",
    "c.execute(\"SELECT Species, Scientific_name FROM EGG_VARIATION\")\n",
    "rows = c.fetchall()\n",
    "\n",
    "# Iterate over the species\n",
    "for row in rows:\n",
    "    species_code = row[0]\n",
    "    scientific_name = row[1]\n",
    "    \n",
    "    # Prepare the SQL query to get egg data for the current species\n",
    "    egg_query = f\"\"\"\n",
    "        SELECT Width * Width * Length AS Volume \n",
    "        FROM Bird_eggs be\n",
    "        JOIN Bird_nests bn ON be.Nest_ID = bn.Nest_ID\n",
    "        WHERE bn.Species = '{species_code}'\n",
    "    \"\"\"\n",
    "    \n",
    "    # Execute the SQL query and get the results as a DataFrame named 'df'\n",
    "    df = pd.read_sql(egg_query, conn)\n",
    "    \n",
    "    # Calculate and print the coefficient of variation\n",
    "    cv = round(df.Volume.std()/df.Volume.mean()*100, 2)\n",
    "    print(f\"{scientific_name} {cv}%\")\n",
    "\n"
   ]
  }
 ],
 "metadata": {
  "kernelspec": {
   "display_name": "Python 3.9.13 ('base')",
   "language": "python",
   "name": "python3"
  },
  "language_info": {
   "codemirror_mode": {
    "name": "ipython",
    "version": 3
   },
   "file_extension": ".py",
   "mimetype": "text/x-python",
   "name": "python",
   "nbconvert_exporter": "python",
   "pygments_lexer": "ipython3",
   "version": "3.10.5"
  },
  "orig_nbformat": 4,
  "vscode": {
   "interpreter": {
    "hash": "40d3a090f54c6569ab1632332b64b2c03c39dcf918b08424e98f38b5ae0af88f"
   }
  }
 },
 "nbformat": 4,
 "nbformat_minor": 2
}
